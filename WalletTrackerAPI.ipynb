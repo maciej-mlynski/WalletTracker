{
 "cells": [
  {
   "cell_type": "code",
   "execution_count": 1,
   "id": "c56c4cf6",
   "metadata": {},
   "outputs": [],
   "source": [
    "from datetime import datetime\n",
    "from requests import get\n",
    "from matplotlib import pyplot as plt\n",
    "from datetime import datetime\n",
    "import pandas as pd"
   ]
  },
  {
   "cell_type": "code",
   "execution_count": 139,
   "id": "177256bd",
   "metadata": {},
   "outputs": [],
   "source": [
    "#Etherscan API\n",
    "URL = \"https://api.etherscan.io/api\"\n",
    "API_KEY = \"NIHBN3PP8W3CHR312I34CM4HK6EZ42NJ3E\"\n",
    "\n",
    "# 1 ETH = GWEI * 10^8\n",
    "ETH_VALUE = 10 ** 18"
   ]
  },
  {
   "cell_type": "code",
   "execution_count": 140,
   "id": "435dbf72",
   "metadata": {},
   "outputs": [],
   "source": [
    "# Make a url to access balance of any wallet\n",
    "def make_api_url(module, action, address, **kwards):\n",
    "\n",
    "    url = (\n",
    "        URL\n",
    "        + f\"?module={module}&action={action}&address={Address}&apikey={API_KEY}\"\n",
    "    )\n",
    "\n",
    "    for key, value in kwards.items():\n",
    "        url += f\"&{key}={value}\"\n",
    "    return url"
   ]
  },
  {
   "cell_type": "code",
   "execution_count": 141,
   "id": "9e3b0f8e",
   "metadata": {},
   "outputs": [],
   "source": [
    "# Get account balance from api url\n",
    "def get_account_ballance(address):\n",
    "\n",
    "    get_balance_url = make_api_url(\"account\", \"balance\", address, tag=\"latest\", x=\"2\")\n",
    "    resposne = get(get_balance_url)\n",
    "\n",
    "    data = resposne.json()\n",
    "    value = int(data[\"result\"]) / ETH_VALUE\n",
    "    return value"
   ]
  },
  {
   "cell_type": "code",
   "execution_count": 662,
   "id": "b26240b0",
   "metadata": {},
   "outputs": [],
   "source": [
    "# example address - this is the top 5 owner address on etherscan \n",
    "Address = \"0x73bceb1cd57c711feac4224d062b0f6ff338501e\""
   ]
  },
  {
   "cell_type": "code",
   "execution_count": 663,
   "id": "0d22c935",
   "metadata": {},
   "outputs": [],
   "source": [
    "# Get history of transactions by particular address\n",
    "\n",
    "get_transaction_url = make_api_url(\n",
    "    \"account\",\n",
    "    \"txlist\",\n",
    "    Address,\n",
    "    startblock=0,\n",
    "    endblock=99999999,\n",
    "    page=1,\n",
    "    offset=10000,\n",
    "    sort=\"asc\",\n",
    ")"
   ]
  },
  {
   "cell_type": "code",
   "execution_count": 664,
   "id": "d0a2719a",
   "metadata": {},
   "outputs": [],
   "source": [
    "response = get(get_transaction_url)\n",
    "data = response.json()[\"result\"]"
   ]
  },
  {
   "cell_type": "code",
   "execution_count": 1,
   "id": "855524c5",
   "metadata": {},
   "outputs": [],
   "source": [
    "#data"
   ]
  },
  {
   "cell_type": "code",
   "execution_count": 666,
   "id": "f1d8f0e3",
   "metadata": {},
   "outputs": [],
   "source": [
    "# We need to add internal transaction to get real balance of account\n",
    "# Internal transaction is for example when we pay for SmartContracts establishing\n",
    "get_internal_transaction_url = make_api_url(\n",
    "    \"account\",\n",
    "    \"txlistinternal\",\n",
    "    Address,\n",
    "    startblock=0,\n",
    "    endblock=99999999,\n",
    "    page=1,\n",
    "    offset=10000,\n",
    "    sort=\"asc\",\n",
    ")"
   ]
  },
  {
   "cell_type": "code",
   "execution_count": 667,
   "id": "5c316d6d",
   "metadata": {},
   "outputs": [],
   "source": [
    "response2 = get(get_internal_transaction_url)\n",
    "data2 = response2.json()[\"result\"]"
   ]
  },
  {
   "cell_type": "code",
   "execution_count": 2,
   "id": "686371d8",
   "metadata": {},
   "outputs": [],
   "source": [
    "#data2"
   ]
  },
  {
   "cell_type": "markdown",
   "id": "74f1c5db",
   "metadata": {},
   "source": [
    "In this example wallet does not make any internal transaction"
   ]
  },
  {
   "cell_type": "code",
   "execution_count": 669,
   "id": "c1acb7be",
   "metadata": {},
   "outputs": [],
   "source": [
    "#creating variable and arrays to append transaction from api\n",
    "current_balance = 0\n",
    "balances = []\n",
    "times = []"
   ]
  },
  {
   "cell_type": "code",
   "execution_count": 670,
   "id": "9304fe0a",
   "metadata": {},
   "outputs": [],
   "source": [
    "# Want to get only few columns\n",
    "for tx in data:\n",
    "    to = tx[\"to\"]\n",
    "    from_adr = tx[\"from\"]\n",
    "    value = int(tx[\"value\"]) / ETH_VALUE\n",
    "\n",
    "    if \"gasPrice\" in tx:\n",
    "        gas = int(tx[\"gasUsed\"]) * (int(tx[\"gasPrice\"]) / ETH_VALUE)\n",
    "    else:\n",
    "        # We need to do that becouse internal transactions do not have gasPrice KEY\n",
    "        gas = int(tx[\"gasUsed\"]) / ETH_VALUE\n",
    "    time = datetime.fromtimestamp(int(tx[\"timeStamp\"]))\n",
    "\n",
    "    # This prints are for showing the history of transaction\n",
    "    \"\"\"print(\"-----------------------\")\n",
    "    print(\"To\", to)\n",
    "    print(\"form\", from_adr)\n",
    "    print(\"Value\", value)\n",
    "    print(\"gas Cost\", gas)\n",
    "    print(\"time\", time)\"\"\"\n",
    "\n",
    "    money_in = to.lower() == address.lower()\n",
    "\n",
    "    # We need to devide transaction by income with no gas and outcome with gas\n",
    "    if money_in:\n",
    "        current_balance += value\n",
    "    else:\n",
    "        current_balance -= value + gas\n",
    "\n",
    "    balances.append(current_balance)\n",
    "    times.append(time)"
   ]
  },
  {
   "cell_type": "code",
   "execution_count": 673,
   "id": "79b1d55d",
   "metadata": {},
   "outputs": [],
   "source": [
    "df = pd.DataFrame({\"date\": times, \"balance\": balances})\n",
    "df.to_csv(\"Data/HistoryOfWallet2.csv\", index=False)"
   ]
  },
  {
   "cell_type": "markdown",
   "id": "af462a80",
   "metadata": {},
   "source": [
    "After some inwesigation I have seen that the wallet tracker is not perfect tool to track wallets\n",
    "\n",
    "**WHY?**\n",
    "1. It can track 1000 days back\n",
    "2. I can quess that becouse of that some wallets that made big transaction before that period and only sale ETH in this period, the tracker will show negative balance\n",
    "3. I guess also that some of wallets do short position on ETH and in that case balance could be also negative\n",
    "\n",
    "**How to improve it?**\n",
    "\n",
    "I think that the good idea is to reverse the proces:\n",
    "1. First get the actuall balance\n",
    "2. Then go back and subtract purchase transactions and add sales transactions"
   ]
  },
  {
   "cell_type": "code",
   "execution_count": null,
   "id": "5090b509",
   "metadata": {},
   "outputs": [],
   "source": []
  }
 ],
 "metadata": {
  "kernelspec": {
   "display_name": "Python 3",
   "language": "python",
   "name": "python3"
  },
  "language_info": {
   "codemirror_mode": {
    "name": "ipython",
    "version": 3
   },
   "file_extension": ".py",
   "mimetype": "text/x-python",
   "name": "python",
   "nbconvert_exporter": "python",
   "pygments_lexer": "ipython3",
   "version": "3.8.8"
  }
 },
 "nbformat": 4,
 "nbformat_minor": 5
}
